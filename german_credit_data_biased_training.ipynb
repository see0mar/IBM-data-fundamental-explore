{
  "nbformat": 4,
  "nbformat_minor": 0,
  "metadata": {
    "colab": {
      "provenance": [],
      "authorship_tag": "ABX9TyOxpawrRMlrHy49k04Yr7xd",
      "include_colab_link": true
    },
    "kernelspec": {
      "name": "python3",
      "display_name": "Python 3"
    },
    "language_info": {
      "name": "python"
    }
  },
  "cells": [
    {
      "cell_type": "markdown",
      "metadata": {
        "id": "view-in-github",
        "colab_type": "text"
      },
      "source": [
        "<a href=\"https://colab.research.google.com/github/see0mar/IBM-data-fundamental-explore/blob/main/german_credit_data_biased_training.ipynb\" target=\"_parent\"><img src=\"https://colab.research.google.com/assets/colab-badge.svg\" alt=\"Open In Colab\"/></a>"
      ]
    },
    {
      "cell_type": "code",
      "execution_count": 23,
      "metadata": {
        "colab": {
          "base_uri": "https://localhost:8080/"
        },
        "id": "MALBRfk7P_1N",
        "outputId": "fa7c48d7-0ee7-4261-cf55-27038069ceef"
      },
      "outputs": [
        {
          "output_type": "stream",
          "name": "stdout",
          "text": [
            "Prediction completed! Updated dataset saved as 'updated_credit_data_with_predicted_risk.csv'.\n"
          ]
        }
      ],
      "source": [
        "import pandas as pd\n",
        "import numpy as np\n",
        "from sklearn.model_selection import train_test_split\n",
        "from sklearn.preprocessing import StandardScaler, LabelEncoder\n",
        "from xgboost import XGBRegressor\n",
        "\n",
        "# Load dataset\n",
        "# Update this with your actual file path, using a raw string (r\"...\") or forward slashes (/.../...)\n",
        "# Also, ensure the file is uploaded to your Colab environment or accessible via a mounted Google Drive.\n",
        "file_path = \"/content/german_credit_data_biased_training.csv\"\n",
        "df = pd.read_csv(file_path)\n",
        "\n",
        "# Encode categorical features\n",
        "categorical_cols = df.select_dtypes(include=['object']).columns\n",
        "label_encoders = {}\n",
        "\n",
        "for col in categorical_cols:\n",
        "    le = LabelEncoder()\n",
        "    df[col] = le.fit_transform(df[col])\n",
        "    label_encoders[col] = le\n",
        "\n",
        "# Define features and target variables\n",
        "# Assuming 'Risk' is the original target and you want to predict 'satisfaction rate' and 'risk percentage'\n",
        "X = df.drop(columns=['Risk']) # Use all columns except 'Risk' as features\n",
        "# Define 'Risk' as the target variable\n",
        "y = df['Risk']\n",
        "\n",
        "\n",
        "# Split the data - This part needs target variables, so it's temporarily commented out\n",
        "X_train, X_test, y_train, y_test = train_test_split(X, y, test_size=0.2, random_state=42)\n",
        "\n",
        "\n",
        "# Standardize numerical features\n",
        "scaler = StandardScaler()\n",
        "X_train = scaler.fit_transform(X_train)\n",
        "X_test = scaler.transform(X_test)\n",
        "\n",
        "# Train the models - Needs target variables, so it's temporarily commented out\n",
        "risk_model = XGBRegressor()\n",
        "\n",
        "risk_model.fit(X_train, y_train)\n",
        "\n",
        "# Make predictions - Needs trained models, so it's temporarily commented out\n",
        "df['Predicted_Risk'] = risk_model.predict(X)\n",
        "\n",
        "\n",
        "# Save the updated dataset - Needs the prediction columns, so it's temporarily commented out\n",
        "df.to_csv(\"updated_credit_data_with_predicted_risk.csv\", index=False)\n",
        "\n",
        "print(\"Prediction completed! Updated dataset saved as 'updated_credit_data_with_predicted_risk.csv'.\")"
      ]
    },
    {
      "cell_type": "code",
      "metadata": {
        "colab": {
          "base_uri": "https://localhost:8080/"
        },
        "id": "c692c21c",
        "outputId": "1fe9a726-706e-4b8e-97e7-90af68b7bed1"
      },
      "source": [
        "import os\n",
        "\n",
        "print(\"Files in /content:\")\n",
        "print(os.listdir('/content'))"
      ],
      "execution_count": 22,
      "outputs": [
        {
          "output_type": "stream",
          "name": "stdout",
          "text": [
            "Files in /content:\n",
            "['.config', 'drive', 'german_credit_data_biased_training.csv', 'updated_credit_data_with_predicted_risk.csv', 'sample_data']\n"
          ]
        }
      ]
    },
    {
      "cell_type": "code",
      "metadata": {
        "colab": {
          "base_uri": "https://localhost:8080/",
          "height": 206
        },
        "id": "3036b3bd",
        "outputId": "daf0f896-4492-44e6-966a-65c6ff406a1e"
      },
      "source": [
        "# Load the updated dataset\n",
        "updated_df = pd.read_csv(\"updated_credit_data_with_predicted_risk.csv\")\n",
        "\n",
        "# Display the original 'Risk' and the 'Predicted_Risk' columns\n",
        "display(updated_df[['Risk', 'Predicted_Risk']].head())"
      ],
      "execution_count": 21,
      "outputs": [
        {
          "output_type": "display_data",
          "data": {
            "text/plain": [
              "   Risk  Predicted_Risk\n",
              "0     0        0.343821\n",
              "1     0        0.923385\n",
              "2     0        0.269997\n",
              "3     0        0.254465\n",
              "4     1        0.306007"
            ],
            "text/html": [
              "\n",
              "  <div id=\"df-d5a93a20-ac46-48c0-933d-633d23a3a70d\" class=\"colab-df-container\">\n",
              "    <div>\n",
              "<style scoped>\n",
              "    .dataframe tbody tr th:only-of-type {\n",
              "        vertical-align: middle;\n",
              "    }\n",
              "\n",
              "    .dataframe tbody tr th {\n",
              "        vertical-align: top;\n",
              "    }\n",
              "\n",
              "    .dataframe thead th {\n",
              "        text-align: right;\n",
              "    }\n",
              "</style>\n",
              "<table border=\"1\" class=\"dataframe\">\n",
              "  <thead>\n",
              "    <tr style=\"text-align: right;\">\n",
              "      <th></th>\n",
              "      <th>Risk</th>\n",
              "      <th>Predicted_Risk</th>\n",
              "    </tr>\n",
              "  </thead>\n",
              "  <tbody>\n",
              "    <tr>\n",
              "      <th>0</th>\n",
              "      <td>0</td>\n",
              "      <td>0.343821</td>\n",
              "    </tr>\n",
              "    <tr>\n",
              "      <th>1</th>\n",
              "      <td>0</td>\n",
              "      <td>0.923385</td>\n",
              "    </tr>\n",
              "    <tr>\n",
              "      <th>2</th>\n",
              "      <td>0</td>\n",
              "      <td>0.269997</td>\n",
              "    </tr>\n",
              "    <tr>\n",
              "      <th>3</th>\n",
              "      <td>0</td>\n",
              "      <td>0.254465</td>\n",
              "    </tr>\n",
              "    <tr>\n",
              "      <th>4</th>\n",
              "      <td>1</td>\n",
              "      <td>0.306007</td>\n",
              "    </tr>\n",
              "  </tbody>\n",
              "</table>\n",
              "</div>\n",
              "    <div class=\"colab-df-buttons\">\n",
              "\n",
              "  <div class=\"colab-df-container\">\n",
              "    <button class=\"colab-df-convert\" onclick=\"convertToInteractive('df-d5a93a20-ac46-48c0-933d-633d23a3a70d')\"\n",
              "            title=\"Convert this dataframe to an interactive table.\"\n",
              "            style=\"display:none;\">\n",
              "\n",
              "  <svg xmlns=\"http://www.w3.org/2000/svg\" height=\"24px\" viewBox=\"0 -960 960 960\">\n",
              "    <path d=\"M120-120v-720h720v720H120Zm60-500h600v-160H180v160Zm220 220h160v-160H400v160Zm0 220h160v-160H400v160ZM180-400h160v-160H180v160Zm440 0h160v-160H620v160ZM180-180h160v-160H180v160Zm440 0h160v-160H620v160Z\"/>\n",
              "  </svg>\n",
              "    </button>\n",
              "\n",
              "  <style>\n",
              "    .colab-df-container {\n",
              "      display:flex;\n",
              "      gap: 12px;\n",
              "    }\n",
              "\n",
              "    .colab-df-convert {\n",
              "      background-color: #E8F0FE;\n",
              "      border: none;\n",
              "      border-radius: 50%;\n",
              "      cursor: pointer;\n",
              "      display: none;\n",
              "      fill: #1967D2;\n",
              "      height: 32px;\n",
              "      padding: 0 0 0 0;\n",
              "      width: 32px;\n",
              "    }\n",
              "\n",
              "    .colab-df-convert:hover {\n",
              "      background-color: #E2EBFA;\n",
              "      box-shadow: 0px 1px 2px rgba(60, 64, 67, 0.3), 0px 1px 3px 1px rgba(60, 64, 67, 0.15);\n",
              "      fill: #174EA6;\n",
              "    }\n",
              "\n",
              "    .colab-df-buttons div {\n",
              "      margin-bottom: 4px;\n",
              "    }\n",
              "\n",
              "    [theme=dark] .colab-df-convert {\n",
              "      background-color: #3B4455;\n",
              "      fill: #D2E3FC;\n",
              "    }\n",
              "\n",
              "    [theme=dark] .colab-df-convert:hover {\n",
              "      background-color: #434B5C;\n",
              "      box-shadow: 0px 1px 3px 1px rgba(0, 0, 0, 0.15);\n",
              "      filter: drop-shadow(0px 1px 2px rgba(0, 0, 0, 0.3));\n",
              "      fill: #FFFFFF;\n",
              "    }\n",
              "  </style>\n",
              "\n",
              "    <script>\n",
              "      const buttonEl =\n",
              "        document.querySelector('#df-d5a93a20-ac46-48c0-933d-633d23a3a70d button.colab-df-convert');\n",
              "      buttonEl.style.display =\n",
              "        google.colab.kernel.accessAllowed ? 'block' : 'none';\n",
              "\n",
              "      async function convertToInteractive(key) {\n",
              "        const element = document.querySelector('#df-d5a93a20-ac46-48c0-933d-633d23a3a70d');\n",
              "        const dataTable =\n",
              "          await google.colab.kernel.invokeFunction('convertToInteractive',\n",
              "                                                    [key], {});\n",
              "        if (!dataTable) return;\n",
              "\n",
              "        const docLinkHtml = 'Like what you see? Visit the ' +\n",
              "          '<a target=\"_blank\" href=https://colab.research.google.com/notebooks/data_table.ipynb>data table notebook</a>'\n",
              "          + ' to learn more about interactive tables.';\n",
              "        element.innerHTML = '';\n",
              "        dataTable['output_type'] = 'display_data';\n",
              "        await google.colab.output.renderOutput(dataTable, element);\n",
              "        const docLink = document.createElement('div');\n",
              "        docLink.innerHTML = docLinkHtml;\n",
              "        element.appendChild(docLink);\n",
              "      }\n",
              "    </script>\n",
              "  </div>\n",
              "\n",
              "\n",
              "    <div id=\"df-377f07d6-fa9c-476f-82a6-70807a1f9431\">\n",
              "      <button class=\"colab-df-quickchart\" onclick=\"quickchart('df-377f07d6-fa9c-476f-82a6-70807a1f9431')\"\n",
              "                title=\"Suggest charts\"\n",
              "                style=\"display:none;\">\n",
              "\n",
              "<svg xmlns=\"http://www.w3.org/2000/svg\" height=\"24px\"viewBox=\"0 0 24 24\"\n",
              "     width=\"24px\">\n",
              "    <g>\n",
              "        <path d=\"M19 3H5c-1.1 0-2 .9-2 2v14c0 1.1.9 2 2 2h14c1.1 0 2-.9 2-2V5c0-1.1-.9-2-2-2zM9 17H7v-7h2v7zm4 0h-2V7h2v10zm4 0h-2v-4h2v4z\"/>\n",
              "    </g>\n",
              "</svg>\n",
              "      </button>\n",
              "\n",
              "<style>\n",
              "  .colab-df-quickchart {\n",
              "      --bg-color: #E8F0FE;\n",
              "      --fill-color: #1967D2;\n",
              "      --hover-bg-color: #E2EBFA;\n",
              "      --hover-fill-color: #174EA6;\n",
              "      --disabled-fill-color: #AAA;\n",
              "      --disabled-bg-color: #DDD;\n",
              "  }\n",
              "\n",
              "  [theme=dark] .colab-df-quickchart {\n",
              "      --bg-color: #3B4455;\n",
              "      --fill-color: #D2E3FC;\n",
              "      --hover-bg-color: #434B5C;\n",
              "      --hover-fill-color: #FFFFFF;\n",
              "      --disabled-bg-color: #3B4455;\n",
              "      --disabled-fill-color: #666;\n",
              "  }\n",
              "\n",
              "  .colab-df-quickchart {\n",
              "    background-color: var(--bg-color);\n",
              "    border: none;\n",
              "    border-radius: 50%;\n",
              "    cursor: pointer;\n",
              "    display: none;\n",
              "    fill: var(--fill-color);\n",
              "    height: 32px;\n",
              "    padding: 0;\n",
              "    width: 32px;\n",
              "  }\n",
              "\n",
              "  .colab-df-quickchart:hover {\n",
              "    background-color: var(--hover-bg-color);\n",
              "    box-shadow: 0 1px 2px rgba(60, 64, 67, 0.3), 0 1px 3px 1px rgba(60, 64, 67, 0.15);\n",
              "    fill: var(--button-hover-fill-color);\n",
              "  }\n",
              "\n",
              "  .colab-df-quickchart-complete:disabled,\n",
              "  .colab-df-quickchart-complete:disabled:hover {\n",
              "    background-color: var(--disabled-bg-color);\n",
              "    fill: var(--disabled-fill-color);\n",
              "    box-shadow: none;\n",
              "  }\n",
              "\n",
              "  .colab-df-spinner {\n",
              "    border: 2px solid var(--fill-color);\n",
              "    border-color: transparent;\n",
              "    border-bottom-color: var(--fill-color);\n",
              "    animation:\n",
              "      spin 1s steps(1) infinite;\n",
              "  }\n",
              "\n",
              "  @keyframes spin {\n",
              "    0% {\n",
              "      border-color: transparent;\n",
              "      border-bottom-color: var(--fill-color);\n",
              "      border-left-color: var(--fill-color);\n",
              "    }\n",
              "    20% {\n",
              "      border-color: transparent;\n",
              "      border-left-color: var(--fill-color);\n",
              "      border-top-color: var(--fill-color);\n",
              "    }\n",
              "    30% {\n",
              "      border-color: transparent;\n",
              "      border-left-color: var(--fill-color);\n",
              "      border-top-color: var(--fill-color);\n",
              "      border-right-color: var(--fill-color);\n",
              "    }\n",
              "    40% {\n",
              "      border-color: transparent;\n",
              "      border-right-color: var(--fill-color);\n",
              "      border-top-color: var(--fill-color);\n",
              "    }\n",
              "    60% {\n",
              "      border-color: transparent;\n",
              "      border-right-color: var(--fill-color);\n",
              "    }\n",
              "    80% {\n",
              "      border-color: transparent;\n",
              "      border-right-color: var(--fill-color);\n",
              "      border-bottom-color: var(--fill-color);\n",
              "    }\n",
              "    90% {\n",
              "      border-color: transparent;\n",
              "      border-bottom-color: var(--fill-color);\n",
              "    }\n",
              "  }\n",
              "</style>\n",
              "\n",
              "      <script>\n",
              "        async function quickchart(key) {\n",
              "          const quickchartButtonEl =\n",
              "            document.querySelector('#' + key + ' button');\n",
              "          quickchartButtonEl.disabled = true;  // To prevent multiple clicks.\n",
              "          quickchartButtonEl.classList.add('colab-df-spinner');\n",
              "          try {\n",
              "            const charts = await google.colab.kernel.invokeFunction(\n",
              "                'suggestCharts', [key], {});\n",
              "          } catch (error) {\n",
              "            console.error('Error during call to suggestCharts:', error);\n",
              "          }\n",
              "          quickchartButtonEl.classList.remove('colab-df-spinner');\n",
              "          quickchartButtonEl.classList.add('colab-df-quickchart-complete');\n",
              "        }\n",
              "        (() => {\n",
              "          let quickchartButtonEl =\n",
              "            document.querySelector('#df-377f07d6-fa9c-476f-82a6-70807a1f9431 button');\n",
              "          quickchartButtonEl.style.display =\n",
              "            google.colab.kernel.accessAllowed ? 'block' : 'none';\n",
              "        })();\n",
              "      </script>\n",
              "    </div>\n",
              "\n",
              "    </div>\n",
              "  </div>\n"
            ],
            "application/vnd.google.colaboratory.intrinsic+json": {
              "type": "dataframe",
              "summary": "{\n  \"name\": \"display(updated_df[['Risk', 'Predicted_Risk']]\",\n  \"rows\": 5,\n  \"fields\": [\n    {\n      \"column\": \"Risk\",\n      \"properties\": {\n        \"dtype\": \"number\",\n        \"std\": 0,\n        \"min\": 0,\n        \"max\": 1,\n        \"num_unique_values\": 2,\n        \"samples\": [\n          1,\n          0\n        ],\n        \"semantic_type\": \"\",\n        \"description\": \"\"\n      }\n    },\n    {\n      \"column\": \"Predicted_Risk\",\n      \"properties\": {\n        \"dtype\": \"number\",\n        \"std\": 0.2837674593982304,\n        \"min\": 0.25446463,\n        \"max\": 0.9233849,\n        \"num_unique_values\": 5,\n        \"samples\": [\n          0.9233849,\n          0.30600703\n        ],\n        \"semantic_type\": \"\",\n        \"description\": \"\"\n      }\n    }\n  ]\n}"
            }
          },
          "metadata": {}
        }
      ]
    },
    {
      "cell_type": "code",
      "metadata": {
        "colab": {
          "base_uri": "https://localhost:8080/"
        },
        "id": "c4707518",
        "outputId": "bee29912-564d-4b28-844c-0e79996db2c6"
      },
      "source": [
        "from sklearn.metrics import mean_absolute_error, mean_squared_error, r2_score\n",
        "\n",
        "# Evaluate the model\n",
        "y_pred = risk_model.predict(X_test)\n",
        "\n",
        "mae = mean_absolute_error(y_test, y_pred)\n",
        "mse = mean_squared_error(y_test, y_pred)\n",
        "r2 = r2_score(y_test, y_pred)\n",
        "\n",
        "print(f\"Mean Absolute Error (MAE): {mae:.4f}\")\n",
        "print(f\"Mean Squared Error (MSE): {mse:.4f}\")\n",
        "print(f\"R-squared (R2): {r2:.4f}\")"
      ],
      "execution_count": 12,
      "outputs": [
        {
          "output_type": "stream",
          "name": "stdout",
          "text": [
            "Mean Absolute Error (MAE): 0.2938\n",
            "Mean Squared Error (MSE): 0.1622\n",
            "R-squared (R2): 0.2720\n"
          ]
        }
      ]
    },
    {
      "cell_type": "code",
      "metadata": {
        "colab": {
          "base_uri": "https://localhost:8080/",
          "height": 711
        },
        "id": "09ced537",
        "outputId": "6cc18a9f-ca66-4fad-da10-c2c9c2c4e0a7"
      },
      "source": [
        "# Get feature importances from the trained model\n",
        "feature_importances = risk_model.feature_importances_\n",
        "\n",
        "# Get the feature names from the training data\n",
        "feature_names = X.columns\n",
        "\n",
        "# Create a pandas Series for better visualization\n",
        "importance_series = pd.Series(feature_importances, index=feature_names)\n",
        "\n",
        "# Sort the features by importance and display\n",
        "display(importance_series.sort_values(ascending=False))"
      ],
      "execution_count": 13,
      "outputs": [
        {
          "output_type": "display_data",
          "data": {
            "text/plain": [
              "OthersOnLoan                0.129046\n",
              "CheckingStatus              0.107562\n",
              "OwnsProperty                0.079436\n",
              "Sex                         0.073359\n",
              "ExistingCreditsCount        0.069676\n",
              "Age                         0.059741\n",
              "CurrentResidenceDuration    0.059616\n",
              "EmploymentDuration          0.054341\n",
              "Housing                     0.040985\n",
              "Job                         0.039642\n",
              "LoanDuration                0.034068\n",
              "InstallmentPlans            0.033139\n",
              "ExistingSavings             0.031234\n",
              "LoanAmount                  0.028839\n",
              "Telephone                   0.028426\n",
              "Dependents                  0.028395\n",
              "InstallmentPercent          0.027753\n",
              "LoanPurpose                 0.026782\n",
              "ForeignWorker               0.024673\n",
              "CreditHistory               0.023286\n",
              "dtype: float32"
            ],
            "text/html": [
              "<div>\n",
              "<style scoped>\n",
              "    .dataframe tbody tr th:only-of-type {\n",
              "        vertical-align: middle;\n",
              "    }\n",
              "\n",
              "    .dataframe tbody tr th {\n",
              "        vertical-align: top;\n",
              "    }\n",
              "\n",
              "    .dataframe thead th {\n",
              "        text-align: right;\n",
              "    }\n",
              "</style>\n",
              "<table border=\"1\" class=\"dataframe\">\n",
              "  <thead>\n",
              "    <tr style=\"text-align: right;\">\n",
              "      <th></th>\n",
              "      <th>0</th>\n",
              "    </tr>\n",
              "  </thead>\n",
              "  <tbody>\n",
              "    <tr>\n",
              "      <th>OthersOnLoan</th>\n",
              "      <td>0.129046</td>\n",
              "    </tr>\n",
              "    <tr>\n",
              "      <th>CheckingStatus</th>\n",
              "      <td>0.107562</td>\n",
              "    </tr>\n",
              "    <tr>\n",
              "      <th>OwnsProperty</th>\n",
              "      <td>0.079436</td>\n",
              "    </tr>\n",
              "    <tr>\n",
              "      <th>Sex</th>\n",
              "      <td>0.073359</td>\n",
              "    </tr>\n",
              "    <tr>\n",
              "      <th>ExistingCreditsCount</th>\n",
              "      <td>0.069676</td>\n",
              "    </tr>\n",
              "    <tr>\n",
              "      <th>Age</th>\n",
              "      <td>0.059741</td>\n",
              "    </tr>\n",
              "    <tr>\n",
              "      <th>CurrentResidenceDuration</th>\n",
              "      <td>0.059616</td>\n",
              "    </tr>\n",
              "    <tr>\n",
              "      <th>EmploymentDuration</th>\n",
              "      <td>0.054341</td>\n",
              "    </tr>\n",
              "    <tr>\n",
              "      <th>Housing</th>\n",
              "      <td>0.040985</td>\n",
              "    </tr>\n",
              "    <tr>\n",
              "      <th>Job</th>\n",
              "      <td>0.039642</td>\n",
              "    </tr>\n",
              "    <tr>\n",
              "      <th>LoanDuration</th>\n",
              "      <td>0.034068</td>\n",
              "    </tr>\n",
              "    <tr>\n",
              "      <th>InstallmentPlans</th>\n",
              "      <td>0.033139</td>\n",
              "    </tr>\n",
              "    <tr>\n",
              "      <th>ExistingSavings</th>\n",
              "      <td>0.031234</td>\n",
              "    </tr>\n",
              "    <tr>\n",
              "      <th>LoanAmount</th>\n",
              "      <td>0.028839</td>\n",
              "    </tr>\n",
              "    <tr>\n",
              "      <th>Telephone</th>\n",
              "      <td>0.028426</td>\n",
              "    </tr>\n",
              "    <tr>\n",
              "      <th>Dependents</th>\n",
              "      <td>0.028395</td>\n",
              "    </tr>\n",
              "    <tr>\n",
              "      <th>InstallmentPercent</th>\n",
              "      <td>0.027753</td>\n",
              "    </tr>\n",
              "    <tr>\n",
              "      <th>LoanPurpose</th>\n",
              "      <td>0.026782</td>\n",
              "    </tr>\n",
              "    <tr>\n",
              "      <th>ForeignWorker</th>\n",
              "      <td>0.024673</td>\n",
              "    </tr>\n",
              "    <tr>\n",
              "      <th>CreditHistory</th>\n",
              "      <td>0.023286</td>\n",
              "    </tr>\n",
              "  </tbody>\n",
              "</table>\n",
              "</div><br><label><b>dtype:</b> float32</label>"
            ]
          },
          "metadata": {}
        }
      ]
    },
    {
      "cell_type": "markdown",
      "metadata": {
        "id": "72a3015d"
      },
      "source": [
        "# Task\n",
        "Analyze the provided dataset to answer the following business questions: 1. How many clients are at the highest risk of not returning the loan by time? 2. Is there any relationship between the risk and whether the client is a foreign worker or not? 3. What is the relationship between the risk and the client's dependents?"
      ]
    },
    {
      "cell_type": "markdown",
      "metadata": {
        "id": "3d14e97d"
      },
      "source": [
        "## Identify high-risk clients\n",
        "\n",
        "### Subtask:\n",
        "Use the 'Predicted_Risk' column from the updated dataset to identify clients with the highest predicted risk of not returning the loan. Determine a threshold for \"highest risk\" (e.g., a certain predicted probability value or a percentage of the top risk scores).\n"
      ]
    },
    {
      "cell_type": "markdown",
      "metadata": {
        "id": "25bf5d9a"
      },
      "source": [
        "**Reasoning**:\n",
        "Load the updated dataset and examine the distribution of the 'Predicted_Risk' column to determine a threshold for high risk.\n",
        "\n"
      ]
    },
    {
      "cell_type": "code",
      "metadata": {
        "colab": {
          "base_uri": "https://localhost:8080/",
          "height": 529
        },
        "id": "d579381b",
        "outputId": "05a17868-b525-463d-addc-131d7db212e4"
      },
      "source": [
        "# The updated_df is already loaded in the previous cell.\n",
        "# Examine the distribution of 'Predicted_Risk'\n",
        "display(updated_df['Predicted_Risk'].describe())\n",
        "\n",
        "# Plot the distribution of 'Predicted_Risk' for better understanding\n",
        "plt.figure(figsize=(8, 6))\n",
        "sns.histplot(updated_df['Predicted_Risk'], bins=50, kde=True)\n",
        "plt.title('Distribution of Predicted Risk Scores')\n",
        "plt.xlabel('Predicted Risk')\n",
        "plt.ylabel('Frequency')\n",
        "plt.show()\n",
        "\n",
        "# Based on the distribution, let's choose the top 20% as high risk as a starting point\n",
        "high_risk_threshold = updated_df['Predicted_Risk'].quantile(0.8)\n",
        "print(f\"High risk threshold (top 20%): {high_risk_threshold:.4f}\")\n",
        "\n",
        "# Create the 'High_Risk_Flag' column\n",
        "updated_df['High_Risk_Flag'] = (updated_df['Predicted_Risk'] >= high_risk_threshold).astype(int)\n",
        "\n",
        "# Display the first few rows with the new column\n",
        "display(updated_df[['Risk', 'Predicted_Risk', 'High_Risk_Flag']].head())"
      ],
      "execution_count": 14,
      "outputs": [
        {
          "output_type": "display_data",
          "data": {
            "text/plain": [
              "count    5000.000000\n",
              "mean        0.535426\n",
              "std         0.248091\n",
              "min        -0.066763\n",
              "25%         0.344781\n",
              "50%         0.488961\n",
              "75%         0.730529\n",
              "max         1.249348\n",
              "Name: Predicted_Risk, dtype: float64"
            ],
            "text/html": [
              "<div>\n",
              "<style scoped>\n",
              "    .dataframe tbody tr th:only-of-type {\n",
              "        vertical-align: middle;\n",
              "    }\n",
              "\n",
              "    .dataframe tbody tr th {\n",
              "        vertical-align: top;\n",
              "    }\n",
              "\n",
              "    .dataframe thead th {\n",
              "        text-align: right;\n",
              "    }\n",
              "</style>\n",
              "<table border=\"1\" class=\"dataframe\">\n",
              "  <thead>\n",
              "    <tr style=\"text-align: right;\">\n",
              "      <th></th>\n",
              "      <th>Predicted_Risk</th>\n",
              "    </tr>\n",
              "  </thead>\n",
              "  <tbody>\n",
              "    <tr>\n",
              "      <th>count</th>\n",
              "      <td>5000.000000</td>\n",
              "    </tr>\n",
              "    <tr>\n",
              "      <th>mean</th>\n",
              "      <td>0.535426</td>\n",
              "    </tr>\n",
              "    <tr>\n",
              "      <th>std</th>\n",
              "      <td>0.248091</td>\n",
              "    </tr>\n",
              "    <tr>\n",
              "      <th>min</th>\n",
              "      <td>-0.066763</td>\n",
              "    </tr>\n",
              "    <tr>\n",
              "      <th>25%</th>\n",
              "      <td>0.344781</td>\n",
              "    </tr>\n",
              "    <tr>\n",
              "      <th>50%</th>\n",
              "      <td>0.488961</td>\n",
              "    </tr>\n",
              "    <tr>\n",
              "      <th>75%</th>\n",
              "      <td>0.730529</td>\n",
              "    </tr>\n",
              "    <tr>\n",
              "      <th>max</th>\n",
              "      <td>1.249348</td>\n",
              "    </tr>\n",
              "  </tbody>\n",
              "</table>\n",
              "</div><br><label><b>dtype:</b> float64</label>"
            ]
          },
          "metadata": {}
        },
        {
          "output_type": "error",
          "ename": "NameError",
          "evalue": "name 'plt' is not defined",
          "traceback": [
            "\u001b[0;31m---------------------------------------------------------------------------\u001b[0m",
            "\u001b[0;31mNameError\u001b[0m                                 Traceback (most recent call last)",
            "\u001b[0;32m<ipython-input-14-4179092028>\u001b[0m in \u001b[0;36m<cell line: 0>\u001b[0;34m()\u001b[0m\n\u001b[1;32m      4\u001b[0m \u001b[0;34m\u001b[0m\u001b[0m\n\u001b[1;32m      5\u001b[0m \u001b[0;31m# Plot the distribution of 'Predicted_Risk' for better understanding\u001b[0m\u001b[0;34m\u001b[0m\u001b[0;34m\u001b[0m\u001b[0m\n\u001b[0;32m----> 6\u001b[0;31m \u001b[0mplt\u001b[0m\u001b[0;34m.\u001b[0m\u001b[0mfigure\u001b[0m\u001b[0;34m(\u001b[0m\u001b[0mfigsize\u001b[0m\u001b[0;34m=\u001b[0m\u001b[0;34m(\u001b[0m\u001b[0;36m8\u001b[0m\u001b[0;34m,\u001b[0m \u001b[0;36m6\u001b[0m\u001b[0;34m)\u001b[0m\u001b[0;34m)\u001b[0m\u001b[0;34m\u001b[0m\u001b[0;34m\u001b[0m\u001b[0m\n\u001b[0m\u001b[1;32m      7\u001b[0m \u001b[0msns\u001b[0m\u001b[0;34m.\u001b[0m\u001b[0mhistplot\u001b[0m\u001b[0;34m(\u001b[0m\u001b[0mupdated_df\u001b[0m\u001b[0;34m[\u001b[0m\u001b[0;34m'Predicted_Risk'\u001b[0m\u001b[0;34m]\u001b[0m\u001b[0;34m,\u001b[0m \u001b[0mbins\u001b[0m\u001b[0;34m=\u001b[0m\u001b[0;36m50\u001b[0m\u001b[0;34m,\u001b[0m \u001b[0mkde\u001b[0m\u001b[0;34m=\u001b[0m\u001b[0;32mTrue\u001b[0m\u001b[0;34m)\u001b[0m\u001b[0;34m\u001b[0m\u001b[0;34m\u001b[0m\u001b[0m\n\u001b[1;32m      8\u001b[0m \u001b[0mplt\u001b[0m\u001b[0;34m.\u001b[0m\u001b[0mtitle\u001b[0m\u001b[0;34m(\u001b[0m\u001b[0;34m'Distribution of Predicted Risk Scores'\u001b[0m\u001b[0;34m)\u001b[0m\u001b[0;34m\u001b[0m\u001b[0;34m\u001b[0m\u001b[0m\n",
            "\u001b[0;31mNameError\u001b[0m: name 'plt' is not defined"
          ]
        }
      ]
    },
    {
      "cell_type": "markdown",
      "metadata": {
        "id": "10b7342f"
      },
      "source": [
        "**Reasoning**:\n",
        "The previous code failed because matplotlib.pyplot was not imported. Import the necessary libraries and re-run the code to examine the distribution of 'Predicted_Risk', determine the high-risk threshold, and create the 'High_Risk_Flag' column.\n",
        "\n"
      ]
    },
    {
      "cell_type": "code",
      "metadata": {
        "colab": {
          "base_uri": "https://localhost:8080/",
          "height": 1000
        },
        "id": "3qvZRleAWJel",
        "outputId": "d31d2a52-7a34-402a-a5be-a1b2dad53af7"
      },
      "source": [
        "import matplotlib.pyplot as plt\n",
        "import seaborn as sns\n",
        "\n",
        "# The updated_df is already loaded.\n",
        "# Examine the distribution of 'Predicted_Risk'\n",
        "display(updated_df['Predicted_Risk'].describe())\n",
        "\n",
        "# Plot the distribution of 'Predicted_Risk' for better understanding\n",
        "plt.figure(figsize=(8, 6))\n",
        "sns.histplot(updated_df['Predicted_Risk'], bins=50, kde=True)\n",
        "plt.title('Distribution of Predicted Risk Scores')\n",
        "plt.xlabel('Predicted Risk')\n",
        "plt.ylabel('Frequency')\n",
        "plt.show()\n",
        "\n",
        "# Based on the distribution, let's choose the top 20% as high risk as a starting point\n",
        "high_risk_threshold = updated_df['Predicted_Risk'].quantile(0.8)\n",
        "print(f\"High risk threshold (top 20%): {high_risk_threshold:.4f}\")\n",
        "\n",
        "# Create the 'High_Risk_Flag' column\n",
        "updated_df['High_Risk_Flag'] = (updated_df['Predicted_Risk'] >= high_risk_threshold).astype(int)\n",
        "\n",
        "# Display the first few rows with the new column\n",
        "display(updated_df[['Risk', 'Predicted_Risk', 'High_Risk_Flag']].head())"
      ],
      "execution_count": 15,
      "outputs": [
        {
          "output_type": "display_data",
          "data": {
            "text/plain": [
              "count    5000.000000\n",
              "mean        0.535426\n",
              "std         0.248091\n",
              "min        -0.066763\n",
              "25%         0.344781\n",
              "50%         0.488961\n",
              "75%         0.730529\n",
              "max         1.249348\n",
              "Name: Predicted_Risk, dtype: float64"
            ],
            "text/html": [
              "<div>\n",
              "<style scoped>\n",
              "    .dataframe tbody tr th:only-of-type {\n",
              "        vertical-align: middle;\n",
              "    }\n",
              "\n",
              "    .dataframe tbody tr th {\n",
              "        vertical-align: top;\n",
              "    }\n",
              "\n",
              "    .dataframe thead th {\n",
              "        text-align: right;\n",
              "    }\n",
              "</style>\n",
              "<table border=\"1\" class=\"dataframe\">\n",
              "  <thead>\n",
              "    <tr style=\"text-align: right;\">\n",
              "      <th></th>\n",
              "      <th>Predicted_Risk</th>\n",
              "    </tr>\n",
              "  </thead>\n",
              "  <tbody>\n",
              "    <tr>\n",
              "      <th>count</th>\n",
              "      <td>5000.000000</td>\n",
              "    </tr>\n",
              "    <tr>\n",
              "      <th>mean</th>\n",
              "      <td>0.535426</td>\n",
              "    </tr>\n",
              "    <tr>\n",
              "      <th>std</th>\n",
              "      <td>0.248091</td>\n",
              "    </tr>\n",
              "    <tr>\n",
              "      <th>min</th>\n",
              "      <td>-0.066763</td>\n",
              "    </tr>\n",
              "    <tr>\n",
              "      <th>25%</th>\n",
              "      <td>0.344781</td>\n",
              "    </tr>\n",
              "    <tr>\n",
              "      <th>50%</th>\n",
              "      <td>0.488961</td>\n",
              "    </tr>\n",
              "    <tr>\n",
              "      <th>75%</th>\n",
              "      <td>0.730529</td>\n",
              "    </tr>\n",
              "    <tr>\n",
              "      <th>max</th>\n",
              "      <td>1.249348</td>\n",
              "    </tr>\n",
              "  </tbody>\n",
              "</table>\n",
              "</div><br><label><b>dtype:</b> float64</label>"
            ]
          },
          "metadata": {}
        },
        {
          "output_type": "display_data",
          "data": {
            "text/plain": [
              "<Figure size 800x600 with 1 Axes>"
            ],
            "image/png": "[encoded data removed]"
          },
          "metadata": {}
        },
        {
          "output_type": "stream",
          "name": "stdout",
          "text": [
            "High risk threshold (top 20%): 0.7753\n"
          ]
        },
        {
          "output_type": "display_data",
          "data": {
            "text/plain": [
              "   Risk  Predicted_Risk  High_Risk_Flag\n",
              "0     0        0.343821               0\n",
              "1     0        0.923385               1\n",
              "2     0        0.269997               0\n",
              "3     0        0.254465               0\n",
              "4     1        0.306007               0"
            ],
            "text/html": [
              "\n",
              "  <div id=\"df-5874cbd4-1587-44f6-8d97-29ca9ee72028\" class=\"colab-df-container\">\n",
              "    <div>\n",
              "<style scoped>\n",
              "    .dataframe tbody tr th:only-of-type {\n",
              "        vertical-align: middle;\n",
              "    }\n",
              "\n",
              "    .dataframe tbody tr th {\n",
              "        vertical-align: top;\n",
              "    }\n",
              "\n",
              "    .dataframe thead th {\n",
              "        text-align: right;\n",
              "    }\n",
              "</style>\n",
              "<table border=\"1\" class=\"dataframe\">\n",
              "  <thead>\n",
              "    <tr style=\"text-align: right;\">\n",
              "      <th></th>\n",
              "      <th>Risk</th>\n",
              "      <th>Predicted_Risk</th>\n",
              "      <th>High_Risk_Flag</th>\n",
              "    </tr>\n",
              "  </thead>\n",
              "  <tbody>\n",
              "    <tr>\n",
              "      <th>0</th>\n",
              "      <td>0</td>\n",
              "      <td>0.343821</td>\n",
              "      <td>0</td>\n",
              "    </tr>\n",
              "    <tr>\n",
              "      <th>1</th>\n",
              "      <td>0</td>\n",
              "      <td>0.923385</td>\n",
              "      <td>1</td>\n",
              "    </tr>\n",
              "    <tr>\n",
              "      <th>2</th>\n",
              "      <td>0</td>\n",
              "      <td>0.269997</td>\n",
              "      <td>0</td>\n",
              "    </tr>\n",
              "    <tr>\n",
              "      <th>3</th>\n",
              "      <td>0</td>\n",
              "      <td>0.254465</td>\n",
              "      <td>0</td>\n",
              "    </tr>\n",
              "    <tr>\n",
              "      <th>4</th>\n",
              "      <td>1</td>\n",
              "      <td>0.306007</td>\n",
              "      <td>0</td>\n",
              "    </tr>\n",
              "  </tbody>\n",
              "</table>\n",
              "</div>\n",
              "    <div class=\"colab-df-buttons\">\n",
              "\n",
              "  <div class=\"colab-df-container\">\n",
              "    <button class=\"colab-df-convert\" onclick=\"convertToInteractive('df-5874cbd4-1587-44f6-8d97-29ca9ee72028')\"\n",
              "            title=\"Convert this dataframe to an interactive table.\"\n",
              "            style=\"display:none;\">\n",
              "\n",
              "  <svg xmlns=\"http://www.w3.org/2000/svg\" height=\"24px\" viewBox=\"0 -960 960 960\">\n",
              "    <path d=\"M120-120v-720h720v720H120Zm60-500h600v-160H180v160Zm220 220h160v-160H400v160Zm0 220h160v-160H400v160ZM180-400h160v-160H180v160Zm440 0h160v-160H620v160ZM180-180h160v-160H180v160Zm440 0h160v-160H620v160Z\"/>\n",
              "  </svg>\n",
              "    </button>\n",
              "\n",
              "  <style>\n",
              "    .colab-df-container {\n",
              "      display:flex;\n",
              "      gap: 12px;\n",
              "    }\n",
              "\n",
              "    .colab-df-convert {\n",
              "      background-color: #E8F0FE;\n",
              "      border: none;\n",
              "      border-radius: 50%;\n",
              "      cursor: pointer;\n",
              "      display: none;\n",
              "      fill: #1967D2;\n",
              "      height: 32px;\n",
              "      padding: 0 0 0 0;\n",
              "      width: 32px;\n",
              "    }\n",
              "\n",
              "    .colab-df-convert:hover {\n",
              "      background-color: #E2EBFA;\n",
              "      box-shadow: 0px 1px 2px rgba(60, 64, 67, 0.3), 0px 1px 3px 1px rgba(60, 64, 67, 0.15);\n",
              "      fill: #174EA6;\n",
              "    }\n",
              "\n",
              "    .colab-df-buttons div {\n",
              "      margin-bottom: 4px;\n",
              "    }\n",
              "\n",
              "    [theme=dark] .colab-df-convert {\n",
              "      background-color: #3B4455;\n",
              "      fill: #D2E3FC;\n",
              "    }\n",
              "\n",
              "    [theme=dark] .colab-df-convert:hover {\n",
              "      background-color: #434B5C;\n",
              "      box-shadow: 0px 1px 3px 1px rgba(0, 0, 0, 0.15);\n",
              "      filter: drop-shadow(0px 1px 2px rgba(0, 0, 0, 0.3));\n",
              "      fill: #FFFFFF;\n",
              "    }\n",
              "  </style>\n",
              "\n",
              "    <script>\n",
              "      const buttonEl =\n",
              "        document.querySelector('#df-5874cbd4-1587-44f6-8d97-29ca9ee72028 button.colab-df-convert');\n",
              "      buttonEl.style.display =\n",
              "        google.colab.kernel.accessAllowed ? 'block' : 'none';\n",
              "\n",
              "      async function convertToInteractive(key) {\n",
              "        const element = document.querySelector('#df-5874cbd4-1587-44f6-8d97-29ca9ee72028');\n",
              "        const dataTable =\n",
              "          await google.colab.kernel.invokeFunction('convertToInteractive',\n",
              "                                                    [key], {});\n",
              "        if (!dataTable) return;\n",
              "\n",
              "        const docLinkHtml = 'Like what you see? Visit the ' +\n",
              "          '<a target=\"_blank\" href=https://colab.research.google.com/notebooks/data_table.ipynb>data table notebook</a>'\n",
              "          + ' to learn more about interactive tables.';\n",
              "        element.innerHTML = '';\n",
              "        dataTable['output_type'] = 'display_data';\n",
              "        await google.colab.output.renderOutput(dataTable, element);\n",
              "        const docLink = document.createElement('div');\n",
              "        docLink.innerHTML = docLinkHtml;\n",
              "        element.appendChild(docLink);\n",
              "      }\n",
              "    </script>\n",
              "  </div>\n",
              "\n",
              "\n",
              "    <div id=\"df-80015438-ce47-492f-87be-98ec29a9a595\">\n",
              "      <button class=\"colab-df-quickchart\" onclick=\"quickchart('df-80015438-ce47-492f-87be-98ec29a9a595')\"\n",
              "                title=\"Suggest charts\"\n",
              "                style=\"display:none;\">\n",
              "\n",
              "<svg xmlns=\"http://www.w3.org/2000/svg\" height=\"24px\"viewBox=\"0 0 24 24\"\n",
              "     width=\"24px\">\n",
              "    <g>\n",
              "        <path d=\"M19 3H5c-1.1 0-2 .9-2 2v14c0 1.1.9 2 2 2h14c1.1 0 2-.9 2-2V5c0-1.1-.9-2-2-2zM9 17H7v-7h2v7zm4 0h-2V7h2v10zm4 0h-2v-4h2v4z\"/>\n",
              "    </g>\n",
              "</svg>\n",
              "      </button>\n",
              "\n",
              "<style>\n",
              "  .colab-df-quickchart {\n",
              "      --bg-color: #E8F0FE;\n",
              "      --fill-color: #1967D2;\n",
              "      --hover-bg-color: #E2EBFA;\n",
              "      --hover-fill-color: #174EA6;\n",
              "      --disabled-fill-color: #AAA;\n",
              "      --disabled-bg-color: #DDD;\n",
              "  }\n",
              "\n",
              "  [theme=dark] .colab-df-quickchart {\n",
              "      --bg-color: #3B4455;\n",
              "      --fill-color: #D2E3FC;\n",
              "      --hover-bg-color: #434B5C;\n",
              "      --hover-fill-color: #FFFFFF;\n",
              "      --disabled-bg-color: #3B4455;\n",
              "      --disabled-fill-color: #666;\n",
              "  }\n",
              "\n",
              "  .colab-df-quickchart {\n",
              "    background-color: var(--bg-color);\n",
              "    border: none;\n",
              "    border-radius: 50%;\n",
              "    cursor: pointer;\n",
              "    display: none;\n",
              "    fill: var(--fill-color);\n",
              "    height: 32px;\n",
              "    padding: 0;\n",
              "    width: 32px;\n",
              "  }\n",
              "\n",
              "  .colab-df-quickchart:hover {\n",
              "    background-color: var(--hover-bg-color);\n",
              "    box-shadow: 0 1px 2px rgba(60, 64, 67, 0.3), 0 1px 3px 1px rgba(60, 64, 67, 0.15);\n",
              "    fill: var(--button-hover-fill-color);\n",
              "  }\n",
              "\n",
              "  .colab-df-quickchart-complete:disabled,\n",
              "  .colab-df-quickchart-complete:disabled:hover {\n",
              "    background-color: var(--disabled-bg-color);\n",
              "    fill: var(--disabled-fill-color);\n",
              "    box-shadow: none;\n",
              "  }\n",
              "\n",
              "  .colab-df-spinner {\n",
              "    border: 2px solid var(--fill-color);\n",
              "    border-color: transparent;\n",
              "    border-bottom-color: var(--fill-color);\n",
              "    animation:\n",
              "      spin 1s steps(1) infinite;\n",
              "  }\n",
              "\n",
              "  @keyframes spin {\n",
              "    0% {\n",
              "      border-color: transparent;\n",
              "      border-bottom-color: var(--fill-color);\n",
              "      border-left-color: var(--fill-color);\n",
              "    }\n",
              "    20% {\n",
              "      border-color: transparent;\n",
              "      border-left-color: var(--fill-color);\n",
              "      border-top-color: var(--fill-color);\n",
              "    }\n",
              "    30% {\n",
              "      border-color: transparent;\n",
              "      border-left-color: var(--fill-color);\n",
              "      border-top-color: var(--fill-color);\n",
              "      border-right-color: var(--fill-color);\n",
              "    }\n",
              "    40% {\n",
              "      border-color: transparent;\n",
              "      border-right-color: var(--fill-color);\n",
              "      border-top-color: var(--fill-color);\n",
              "    }\n",
              "    60% {\n",
              "      border-color: transparent;\n",
              "      border-right-color: var(--fill-color);\n",
              "    }\n",
              "    80% {\n",
              "      border-color: transparent;\n",
              "      border-right-color: var(--fill-color);\n",
              "      border-bottom-color: var(--fill-color);\n",
              "    }\n",
              "    90% {\n",
              "      border-color: transparent;\n",
              "      border-bottom-color: var(--fill-color);\n",
              "    }\n",
              "  }\n",
              "</style>\n",
              "\n",
              "      <script>\n",
              "        async function quickchart(key) {\n",
              "          const quickchartButtonEl =\n",
              "            document.querySelector('#' + key + ' button');\n",
              "          quickchartButtonEl.disabled = true;  // To prevent multiple clicks.\n",
              "          quickchartButtonEl.classList.add('colab-df-spinner');\n",
              "          try {\n",
              "            const charts = await google.colab.kernel.invokeFunction(\n",
              "                'suggestCharts', [key], {});\n",
              "          } catch (error) {\n",
              "            console.error('Error during call to suggestCharts:', error);\n",
              "          }\n",
              "          quickchartButtonEl.classList.remove('colab-df-spinner');\n",
              "          quickchartButtonEl.classList.add('colab-df-quickchart-complete');\n",
              "        }\n",
              "        (() => {\n",
              "          let quickchartButtonEl =\n",
              "            document.querySelector('#df-80015438-ce47-492f-87be-98ec29a9a595 button');\n",
              "          quickchartButtonEl.style.display =\n",
              "            google.colab.kernel.accessAllowed ? 'block' : 'none';\n",
              "        })();\n",
              "      </script>\n",
              "    </div>\n",
              "\n",
              "    </div>\n",
              "  </div>\n"
            ],
            "application/vnd.google.colaboratory.intrinsic+json": {
              "type": "dataframe",
              "summary": "{\n  \"name\": \"display(updated_df[['Risk', 'Predicted_Risk', 'High_Risk_Flag']]\",\n  \"rows\": 5,\n  \"fields\": [\n    {\n      \"column\": \"Risk\",\n      \"properties\": {\n        \"dtype\": \"number\",\n        \"std\": 0,\n        \"min\": 0,\n        \"max\": 1,\n        \"num_unique_values\": 2,\n        \"samples\": [\n          1,\n          0\n        ],\n        \"semantic_type\": \"\",\n        \"description\": \"\"\n      }\n    },\n    {\n      \"column\": \"Predicted_Risk\",\n      \"properties\": {\n        \"dtype\": \"number\",\n        \"std\": 0.2837674593982304,\n        \"min\": 0.25446463,\n        \"max\": 0.9233849,\n        \"num_unique_values\": 5,\n        \"samples\": [\n          0.9233849,\n          0.30600703\n        ],\n        \"semantic_type\": \"\",\n        \"description\": \"\"\n      }\n    },\n    {\n      \"column\": \"High_Risk_Flag\",\n      \"properties\": {\n        \"dtype\": \"number\",\n        \"std\": 0,\n        \"min\": 0,\n        \"max\": 1,\n        \"num_unique_values\": 2,\n        \"samples\": [\n          1,\n          0\n        ],\n        \"semantic_type\": \"\",\n        \"description\": \"\"\n      }\n    }\n  ]\n}"
            }
          },
          "metadata": {}
        }
      ]
    },
    {
      "cell_type": "markdown",
      "metadata": {
        "id": "26570f16"
      },
      "source": [
        "## Quantify the number of high-risk clients\n",
        "\n",
        "### Subtask:\n",
        "Count how many clients fall into the high-risk category based on the chosen threshold.\n"
      ]
    },
    {
      "cell_type": "markdown",
      "metadata": {
        "id": "d59b651f"
      },
      "source": [
        "**Reasoning**:\n",
        "Calculate the sum of the 'High_Risk_Flag' column to count the number of high-risk clients and print the result.\n",
        "\n"
      ]
    },
    {
      "cell_type": "code",
      "metadata": {
        "colab": {
          "base_uri": "https://localhost:8080/"
        },
        "id": "026d22f8",
        "outputId": "4771fb11-068f-429a-b39f-6473c0c216c7"
      },
      "source": [
        "# Calculate the number of high-risk clients\n",
        "high_risk_count = updated_df['High_Risk_Flag'].sum()\n",
        "\n",
        "# Print the result\n",
        "print(f\"Number of clients flagged as high risk: {high_risk_count}\")"
      ],
      "execution_count": 16,
      "outputs": [
        {
          "output_type": "stream",
          "name": "stdout",
          "text": [
            "Number of clients flagged as high risk: 1000\n"
          ]
        }
      ]
    },
    {
      "cell_type": "markdown",
      "metadata": {
        "id": "e3e68530"
      },
      "source": [
        "## Analyze the relationship between risk and foreign worker status\n",
        "\n",
        "### Subtask:\n",
        "Examine the relationship between the original 'Risk' column (or the 'Predicted_Risk') and the 'ForeignWorker' column. This could involve grouping the data by 'ForeignWorker' status and comparing the average risk or the distribution of risk for each group. Statistical tests or visualizations might be useful here.\n"
      ]
    },
    {
      "cell_type": "markdown",
      "metadata": {
        "id": "4be8184c"
      },
      "source": [
        "**Reasoning**:\n",
        "Group the dataframe by 'ForeignWorker' and calculate the mean of 'Risk' and 'Predicted_Risk' for each group, then print the results and create bar plots to visualize the relationship.\n",
        "\n"
      ]
    },
    {
      "cell_type": "code",
      "metadata": {
        "colab": {
          "base_uri": "https://localhost:8080/",
          "height": 1000
        },
        "id": "0996834b",
        "outputId": "2102beba-ebcf-4830-c075-363b33173b2c"
      },
      "source": [
        "# Group by 'ForeignWorker' and calculate the mean of 'Risk'\n",
        "mean_original_risk_by_foreign_worker = updated_df.groupby('ForeignWorker')['Risk'].mean()\n",
        "\n",
        "# Group by 'ForeignWorker' and calculate the mean of 'Predicted_Risk'\n",
        "mean_predicted_risk_by_foreign_worker = updated_df.groupby('ForeignWorker')['Predicted_Risk'].mean()\n",
        "\n",
        "# Print the results\n",
        "print(\"Mean Original Risk by Foreign Worker Status:\")\n",
        "display(mean_original_risk_by_foreign_worker)\n",
        "\n",
        "print(\"\\nMean Predicted Risk by Foreign Worker Status:\")\n",
        "display(mean_predicted_risk_by_foreign_worker)\n",
        "\n",
        "# Create a bar plot for average original risk\n",
        "plt.figure(figsize=(8, 6))\n",
        "mean_original_risk_by_foreign_worker.plot(kind='bar', color=['skyblue', 'lightcoral'])\n",
        "plt.title('Average Original Risk by Foreign Worker Status')\n",
        "plt.xlabel('Foreign Worker (0: No, 1: Yes)')\n",
        "plt.ylabel('Average Original Risk')\n",
        "plt.xticks(rotation=0)\n",
        "plt.show()\n",
        "\n",
        "# Create a bar plot for average predicted risk\n",
        "plt.figure(figsize=(8, 6))\n",
        "mean_predicted_risk_by_foreign_worker.plot(kind='bar', color=['skyblue', 'lightcoral'])\n",
        "plt.title('Average Predicted Risk by Foreign Worker Status')\n",
        "plt.xlabel('Foreign Worker (0: No, 1: Yes)')\n",
        "plt.ylabel('Average Predicted Risk')\n",
        "plt.xticks(rotation=0)\n",
        "plt.show()"
      ],
      "execution_count": 17,
      "outputs": [
        {
          "output_type": "stream",
          "name": "stdout",
          "text": [
            "Mean Original Risk by Foreign Worker Status:\n"
          ]
        },
        {
          "output_type": "display_data",
          "data": {
            "text/plain": [
              "ForeignWorker\n",
              "0    0.560976\n",
              "1    0.328276\n",
              "Name: Risk, dtype: float64"
            ],
            "text/html": [
              "<div>\n",
              "<style scoped>\n",
              "    .dataframe tbody tr th:only-of-type {\n",
              "        vertical-align: middle;\n",
              "    }\n",
              "\n",
              "    .dataframe tbody tr th {\n",
              "        vertical-align: top;\n",
              "    }\n",
              "\n",
              "    .dataframe thead th {\n",
              "        text-align: right;\n",
              "    }\n",
              "</style>\n",
              "<table border=\"1\" class=\"dataframe\">\n",
              "  <thead>\n",
              "    <tr style=\"text-align: right;\">\n",
              "      <th></th>\n",
              "      <th>Risk</th>\n",
              "    </tr>\n",
              "    <tr>\n",
              "      <th>ForeignWorker</th>\n",
              "      <th></th>\n",
              "    </tr>\n",
              "  </thead>\n",
              "  <tbody>\n",
              "    <tr>\n",
              "      <th>0</th>\n",
              "      <td>0.560976</td>\n",
              "    </tr>\n",
              "    <tr>\n",
              "      <th>1</th>\n",
              "      <td>0.328276</td>\n",
              "    </tr>\n",
              "  </tbody>\n",
              "</table>\n",
              "</div><br><label><b>dtype:</b> float64</label>"
            ]
          },
          "metadata": {}
        },
        {
          "output_type": "stream",
          "name": "stdout",
          "text": [
            "\n",
            "Mean Predicted Risk by Foreign Worker Status:\n"
          ]
        },
        {
          "output_type": "display_data",
          "data": {
            "text/plain": [
              "ForeignWorker\n",
              "0    0.616738\n",
              "1    0.533376\n",
              "Name: Predicted_Risk, dtype: float64"
            ],
            "text/html": [
              "<div>\n",
              "<style scoped>\n",
              "    .dataframe tbody tr th:only-of-type {\n",
              "        vertical-align: middle;\n",
              "    }\n",
              "\n",
              "    .dataframe tbody tr th {\n",
              "        vertical-align: top;\n",
              "    }\n",
              "\n",
              "    .dataframe thead th {\n",
              "        text-align: right;\n",
              "    }\n",
              "</style>\n",
              "<table border=\"1\" class=\"dataframe\">\n",
              "  <thead>\n",
              "    <tr style=\"text-align: right;\">\n",
              "      <th></th>\n",
              "      <th>Predicted_Risk</th>\n",
              "    </tr>\n",
              "    <tr>\n",
              "      <th>ForeignWorker</th>\n",
              "      <th></th>\n",
              "    </tr>\n",
              "  </thead>\n",
              "  <tbody>\n",
              "    <tr>\n",
              "      <th>0</th>\n",
              "      <td>0.616738</td>\n",
              "    </tr>\n",
              "    <tr>\n",
              "      <th>1</th>\n",
              "      <td>0.533376</td>\n",
              "    </tr>\n",
              "  </tbody>\n",
              "</table>\n",
              "</div><br><label><b>dtype:</b> float64</label>"
            ]
          },
          "metadata": {}
        },
        {
          "output_type": "display_data",
          "data": {
            "text/plain": [
              "<Figure size 800x600 with 1 Axes>"
            ],
            "image/png": "[encoded data removed]"
          },
          "metadata": {}
        },
        {
          "output_type": "display_data",
          "data": {
            "text/plain": [
              "<Figure size 800x600 with 1 Axes>"
            ],
            "image/png": "[encoded data removed]"
          },
          "metadata": {}
        }
      ]
    },
    {
      "cell_type": "markdown",
      "metadata": {
        "id": "3a4f5f03"
      },
      "source": [
        "## Analyze the relationship between risk and dependents\n",
        "\n",
        "### Subtask:\n",
        "Investigate the relationship between the original 'Risk' column (or the 'Predicted_Risk') and the 'Dependents' column. Similar to the foreign worker analysis, grouping, visualizations, or statistical tests can help reveal this relationship.\n"
      ]
    },
    {
      "cell_type": "markdown",
      "metadata": {
        "id": "e87ff647"
      },
      "source": [
        "**Reasoning**:\n",
        "Group the dataframe by 'Dependents' and calculate the mean of 'Risk' and 'Predicted_Risk', then print the results.\n",
        "\n"
      ]
    },
    {
      "cell_type": "code",
      "metadata": {
        "colab": {
          "base_uri": "https://localhost:8080/",
          "height": 391
        },
        "id": "f83c9ada",
        "outputId": "a7f177a6-057f-463f-91da-fb7fc1454271"
      },
      "source": [
        "# Group by 'Dependents' and calculate the mean of 'Risk'\n",
        "mean_original_risk_by_dependents = updated_df.groupby('Dependents')['Risk'].mean()\n",
        "\n",
        "# Group by 'Dependents' and calculate the mean of 'Predicted_Risk'\n",
        "mean_predicted_risk_by_dependents = updated_df.groupby('Dependents')['Predicted_Risk'].mean()\n",
        "\n",
        "# Print the results\n",
        "print(\"Mean Original Risk by Dependents:\")\n",
        "display(mean_original_risk_by_dependents)\n",
        "\n",
        "print(\"\\nMean Predicted Risk by Dependents:\")\n",
        "display(mean_predicted_risk_by_dependents)"
      ],
      "execution_count": 18,
      "outputs": [
        {
          "output_type": "stream",
          "name": "stdout",
          "text": [
            "Mean Original Risk by Dependents:\n"
          ]
        },
        {
          "output_type": "display_data",
          "data": {
            "text/plain": [
              "Dependents\n",
              "1    0.285851\n",
              "2    0.578372\n",
              "Name: Risk, dtype: float64"
            ],
            "text/html": [
              "<div>\n",
              "<style scoped>\n",
              "    .dataframe tbody tr th:only-of-type {\n",
              "        vertical-align: middle;\n",
              "    }\n",
              "\n",
              "    .dataframe tbody tr th {\n",
              "        vertical-align: top;\n",
              "    }\n",
              "\n",
              "    .dataframe thead th {\n",
              "        text-align: right;\n",
              "    }\n",
              "</style>\n",
              "<table border=\"1\" class=\"dataframe\">\n",
              "  <thead>\n",
              "    <tr style=\"text-align: right;\">\n",
              "      <th></th>\n",
              "      <th>Risk</th>\n",
              "    </tr>\n",
              "    <tr>\n",
              "      <th>Dependents</th>\n",
              "      <th></th>\n",
              "    </tr>\n",
              "  </thead>\n",
              "  <tbody>\n",
              "    <tr>\n",
              "      <th>1</th>\n",
              "      <td>0.285851</td>\n",
              "    </tr>\n",
              "    <tr>\n",
              "      <th>2</th>\n",
              "      <td>0.578372</td>\n",
              "    </tr>\n",
              "  </tbody>\n",
              "</table>\n",
              "</div><br><label><b>dtype:</b> float64</label>"
            ]
          },
          "metadata": {}
        },
        {
          "output_type": "stream",
          "name": "stdout",
          "text": [
            "\n",
            "Mean Predicted Risk by Dependents:\n"
          ]
        },
        {
          "output_type": "display_data",
          "data": {
            "text/plain": [
              "Dependents\n",
              "1    0.535715\n",
              "2    0.533963\n",
              "Name: Predicted_Risk, dtype: float64"
            ],
            "text/html": [
              "<div>\n",
              "<style scoped>\n",
              "    .dataframe tbody tr th:only-of-type {\n",
              "        vertical-align: middle;\n",
              "    }\n",
              "\n",
              "    .dataframe tbody tr th {\n",
              "        vertical-align: top;\n",
              "    }\n",
              "\n",
              "    .dataframe thead th {\n",
              "        text-align: right;\n",
              "    }\n",
              "</style>\n",
              "<table border=\"1\" class=\"dataframe\">\n",
              "  <thead>\n",
              "    <tr style=\"text-align: right;\">\n",
              "      <th></th>\n",
              "      <th>Predicted_Risk</th>\n",
              "    </tr>\n",
              "    <tr>\n",
              "      <th>Dependents</th>\n",
              "      <th></th>\n",
              "    </tr>\n",
              "  </thead>\n",
              "  <tbody>\n",
              "    <tr>\n",
              "      <th>1</th>\n",
              "      <td>0.535715</td>\n",
              "    </tr>\n",
              "    <tr>\n",
              "      <th>2</th>\n",
              "      <td>0.533963</td>\n",
              "    </tr>\n",
              "  </tbody>\n",
              "</table>\n",
              "</div><br><label><b>dtype:</b> float64</label>"
            ]
          },
          "metadata": {}
        }
      ]
    },
    {
      "cell_type": "markdown",
      "metadata": {
        "id": "877d5839"
      },
      "source": [
        "**Reasoning**:\n",
        "Create bar plots to visualize the mean original risk and mean predicted risk by dependents to better understand the relationship.\n",
        "\n"
      ]
    },
    {
      "cell_type": "code",
      "metadata": {
        "colab": {
          "base_uri": "https://localhost:8080/",
          "height": 988
        },
        "id": "1dc72473",
        "outputId": "f8aa7681-3c6a-40f4-c2be-3e322f4f520b"
      },
      "source": [
        "# Create a bar plot for average original risk by Dependents\n",
        "plt.figure(figsize=(8, 6))\n",
        "mean_original_risk_by_dependents.plot(kind='bar', color=['skyblue', 'lightcoral'])\n",
        "plt.title('Average Original Risk by Dependents')\n",
        "plt.xlabel('Dependents (1: Yes, 2: No)')\n",
        "plt.ylabel('Average Original Risk')\n",
        "plt.xticks(rotation=0)\n",
        "plt.show()\n",
        "\n",
        "# Create a bar plot for average predicted risk by Dependents\n",
        "plt.figure(figsize=(8, 6))\n",
        "mean_predicted_risk_by_dependents.plot(kind='bar', color=['skyblue', 'lightcoral'])\n",
        "plt.title('Average Predicted Risk by Dependents')\n",
        "plt.xlabel('Dependents (1: Yes, 2: No)')\n",
        "plt.ylabel('Average Predicted Risk')\n",
        "plt.xticks(rotation=0)\n",
        "plt.show()"
      ],
      "execution_count": 19,
      "outputs": [
        {
          "output_type": "display_data",
          "data": {
            "text/plain": [
              "<Figure size 800x600 with 1 Axes>"
            ],
            "image/png": "[encoded data removed]"
          },
          "metadata": {}
        },
        {
          "output_type": "display_data",
          "data": {
            "text/plain": [
              "<Figure size 800x600 with 1 Axes>"
            ],
            "image/png": "[encoded data removed]"
          },
          "metadata": {}
        }
      ]
    },
    {
      "cell_type": "markdown",
      "metadata": {
        "id": "c9bd2933"
      },
      "source": [
        "## Summarize findings\n",
        "\n",
        "### Subtask:\n",
        "Present the answers to the three business questions based on the analysis performed in the previous steps.\n"
      ]
    },
    {
      "cell_type": "markdown",
      "metadata": {
        "id": "8b1c9dfb"
      },
      "source": [
        "**Reasoning**:\n",
        "Present the answers to the business questions based on the analysis performed in the previous steps.\n",
        "\n"
      ]
    },
    {
      "cell_type": "code",
      "metadata": {
        "colab": {
          "base_uri": "https://localhost:8080/"
        },
        "id": "0872211c",
        "outputId": "a454191a-ebad-4e3e-91c0-ef6ed7792107"
      },
      "source": [
        "# 1. Number of clients at highest risk\n",
        "# The number of high-risk clients was calculated in a previous step and stored in high_risk_count.\n",
        "print(f\"1. Number of clients identified as high risk: {high_risk_count}\")\n",
        "\n",
        "# 2. Relationship between risk and foreign worker status\n",
        "print(\"\\n2. Relationship between risk and foreign worker status:\")\n",
        "print(\"Based on the analysis of the original 'Risk' and predicted 'Predicted_Risk':\")\n",
        "print(f\"- Mean Original Risk for non-foreign workers (0): {mean_original_risk_by_foreign_worker[0]:.4f}\")\n",
        "print(f\"- Mean Original Risk for foreign workers (1): {mean_original_risk_by_foreign_worker[1]:.4f}\")\n",
        "print(\"Original data shows that non-foreign workers have a higher average risk compared to foreign workers.\")\n",
        "print(f\"- Mean Predicted Risk for non-foreign workers (0): {mean_predicted_risk_by_foreign_worker[0]:.4f}\")\n",
        "print(f\"- Mean Predicted Risk for foreign workers (1): {mean_predicted_risk_by_foreign_worker[1]:.4f}\")\n",
        "print(\"The model's predicted risk also shows that non-foreign workers have a higher average predicted risk, although the difference is less pronounced than in the original data.\")\n",
        "\n",
        "# 3. Relationship between risk and dependents\n",
        "print(\"\\n3. Relationship between risk and dependents:\")\n",
        "print(\"Based on the analysis of the original 'Risk' and predicted 'Predicted_Risk':\")\n",
        "print(f\"- Mean Original Risk for clients with 1 dependent: {mean_original_risk_by_dependents[1]:.4f}\")\n",
        "print(f\"- Mean Original Risk for clients with 2 dependents: {mean_original_risk_by_dependents[2]:.4f}\")\n",
        "print(\"Original data indicates that clients with 2 dependents have a significantly higher average risk compared to those with 1 dependent.\")\n",
        "print(f\"- Mean Predicted Risk for clients with 1 dependent: {mean_predicted_risk_by_dependents[1]:.4f}\")\n",
        "print(f\"- Mean Predicted Risk for clients with 2 dependents: {mean_predicted_risk_by_dependents[2]:.4f}\")\n",
        "print(\"The model's predicted risk shows a much smaller difference in average risk between clients with 1 and 2 dependents, suggesting the model might not heavily weight this feature or its effect is influenced by other factors.\")"
      ],
      "execution_count": 20,
      "outputs": [
        {
          "output_type": "stream",
          "name": "stdout",
          "text": [
            "1. Number of clients identified as high risk: 1000\n",
            "\n",
            "2. Relationship between risk and foreign worker status:\n",
            "Based on the analysis of the original 'Risk' and predicted 'Predicted_Risk':\n",
            "- Mean Original Risk for non-foreign workers (0): 0.5610\n",
            "- Mean Original Risk for foreign workers (1): 0.3283\n",
            "Original data shows that non-foreign workers have a higher average risk compared to foreign workers.\n",
            "- Mean Predicted Risk for non-foreign workers (0): 0.6167\n",
            "- Mean Predicted Risk for foreign workers (1): 0.5334\n",
            "The model's predicted risk also shows that non-foreign workers have a higher average predicted risk, although the difference is less pronounced than in the original data.\n",
            "\n",
            "3. Relationship between risk and dependents:\n",
            "Based on the analysis of the original 'Risk' and predicted 'Predicted_Risk':\n",
            "- Mean Original Risk for clients with 1 dependent: 0.2859\n",
            "- Mean Original Risk for clients with 2 dependents: 0.5784\n",
            "Original data indicates that clients with 2 dependents have a significantly higher average risk compared to those with 1 dependent.\n",
            "- Mean Predicted Risk for clients with 1 dependent: 0.5357\n",
            "- Mean Predicted Risk for clients with 2 dependents: 0.5340\n",
            "The model's predicted risk shows a much smaller difference in average risk between clients with 1 and 2 dependents, suggesting the model might not heavily weight this feature or its effect is influenced by other factors.\n"
          ]
        }
      ]
    },
    {
      "cell_type": "markdown",
      "metadata": {
        "id": "e9b3e224"
      },
      "source": [
        "## Summary:\n",
        "\n",
        "### Q&A\n",
        "\n",
        "1.  **How many clients are at the highest risk of not returning the loan by time?**\n",
        "    Based on the analysis, there are 1000 clients identified as high risk, which corresponds to the top 20% of clients based on their predicted risk scores.\n",
        "\n",
        "2.  **Is there any relationship between the risk and whether the client is a foreign worker or not?**\n",
        "    Yes, there is a relationship. Both the original data and the predicted risk indicate that non-foreign workers have a higher average risk of not returning the loan compared to foreign workers. The average original risk for non-foreign workers is approximately 0.5610, while for foreign workers it is approximately 0.3283. The average predicted risk for non-foreign workers is approximately 0.6167, and for foreign workers, it is approximately 0.5334.\n",
        "\n",
        "3.  **What is the relationship between the risk and the client's dependents?**\n",
        "    Based on the original data, there is a significant relationship between risk and dependents, with clients having 2 dependents showing a much higher average risk (approximately 0.5784) compared to those with 1 dependent (approximately 0.2859). However, the model's predicted risk shows only a marginal difference between these two groups (1 dependent: approximately 0.5357, 2 dependents: approximately 0.5340).\n",
        "\n",
        "### Data Analysis Key Findings\n",
        "\n",
        "*   1000 clients were identified as high risk, representing the top 20% of clients based on their predicted risk scores.\n",
        "*   Non-foreign workers have a higher average original risk (approximately 0.561) and a higher average predicted risk (approximately 0.617) compared to foreign workers (average original risk: approximately 0.328, average predicted risk: approximately 0.533).\n",
        "*   In the original data, clients with 2 dependents have a significantly higher average risk (approximately 0.578) than those with 1 dependent (approximately 0.286).\n",
        "*   The model's predicted risk shows only a very small difference in average risk between clients with 1 dependent (approximately 0.536) and those with 2 dependents (approximately 0.534).\n",
        "\n",
        "### Insights or Next Steps\n",
        "\n",
        "*   The model's predicted risk seems to capture the higher risk associated with non-foreign workers but appears to downplay the impact of having 2 dependents compared to what is observed in the original data. Further investigation into why the model's prediction differs significantly from the original data regarding dependents could be beneficial.\n",
        "*   Given that non-foreign workers and clients with 2 dependents (in the original data) show higher risk, these segments could be targeted for more rigorous credit checks or alternative loan products.\n"
      ]
    }
  ]
}